{
  "nbformat": 4,
  "nbformat_minor": 0,
  "metadata": {
    "colab": {
      "provenance": []
    },
    "kernelspec": {
      "name": "python3",
      "display_name": "Python 3"
    },
    "language_info": {
      "name": "python"
    }
  },
  "cells": [
    {
      "cell_type": "code",
      "execution_count": null,
      "metadata": {
        "id": "cnoH90ub0d0Q"
      },
      "outputs": [],
      "source": [
        "import pandas as pd\n",
        "data = pd.read_csv('/content/bank_transactions.csv')\n"
      ]
    },
    {
      "cell_type": "code",
      "source": [],
      "metadata": {
        "id": "mOroClLj46Ra"
      },
      "execution_count": null,
      "outputs": []
    },
    {
      "cell_type": "code",
      "source": [
        "data.info()\n",
        "data.isna().sum()\n",
        "data.dropna(inplace=True)\n",
        "#Missing values\n",
        "data.isna().sum()\n",
        "data.dropna(inplace=True)\n",
        "data.isna().sum()\n",
        "#Dates\n",
        "data.CustomerD0B = pd.to_datetime(data.CustomerD0B)\n",
        "data.TransactionDate = pd.to_datetime(data.TransactionDate)\n",
        "pd.to_datetime(data.transactionTime)\n",
        "data.TransactionTime.describe()\n",
        "data.TransactionTime.min()\n",
        "data.TransactionTime.max()\n",
        "def convert_time(value):"
      ],
      "metadata": {
        "id": "p-uzgnzj13MV"
      },
      "execution_count": null,
      "outputs": []
    },
    {
      "cell_type": "code",
      "source": [],
      "metadata": {
        "id": "s3eIepC-2Mog"
      },
      "execution_count": null,
      "outputs": []
    },
    {
      "cell_type": "markdown",
      "source": [],
      "metadata": {
        "id": "lObiVDD32Gz0"
      }
    },
    {
      "cell_type": "markdown",
      "source": [
        "**Missing values**"
      ],
      "metadata": {
        "id": "FtKQYdLY15kH"
      }
    },
    {
      "cell_type": "code",
      "source": [
        "data.isna().sum()\n",
        "data.dropna(inplace=True)\n",
        "data.isna().sum()"
      ],
      "metadata": {
        "id": "T26QspOI17Sb"
      },
      "execution_count": null,
      "outputs": []
    },
    {
      "cell_type": "markdown",
      "source": [
        "*Dates*"
      ],
      "metadata": {
        "id": "eam_y0AZ1ynw"
      }
    },
    {
      "cell_type": "code",
      "source": [
        "data.CustomerDOB = pd.to_datetime(data.CustomerD0B)\n",
        "data.TransactionDate = pd.to_datetime(data.TransactionDate)\n",
        "from datetime import datetime\n",
        "\n",
        "pd.to_datetime(data.transactionTime)\n",
        "data.TransactionTime.describe()\n",
        "data.TransactionTime.min()\n",
        "data.TransactionTime.max()\n",
        "def convert_time(value):"
      ],
      "metadata": {
        "id": "Pswd2rH22NT9"
      },
      "execution_count": null,
      "outputs": []
    },
    {
      "cell_type": "code",
      "source": [
        "pd.to_datetime(data,TransactionTime)"
      ],
      "metadata": {
        "id": "3KaaENQj2diG"
      },
      "execution_count": null,
      "outputs": []
    },
    {
      "cell_type": "code",
      "source": [
        "data.CustomerDOB.value_counts()\n",
        "data.CustomerDOB.dt.year.value_counts()\n",
        "data.CustomerDOB.dt.year.hist(bins=50)"
      ],
      "metadata": {
        "id": "lOmw0-iR2mex"
      },
      "execution_count": null,
      "outputs": []
    },
    {
      "cell_type": "code",
      "source": [
        "data.TransactionDate.dt.year.value_counts()"
      ],
      "metadata": {
        "id": "1jZl_Khk3rrZ"
      },
      "execution_count": null,
      "outputs": []
    },
    {
      "cell_type": "code",
      "source": [
        "data.locate[data.CustomerDOB.dt.year>2000, 'CustomerDOB'] = data.loc[data.Customer] pd.DateOffSet(years=100)"
      ],
      "metadata": {
        "id": "irTNB4kE48SO"
      },
      "execution_count": null,
      "outputs": []
    },
    {
      "cell_type": "code",
      "source": [
        "data.drop(data[data.CusstomerDOB.dt.year == 1800].index, axis=0, inplace=True)"
      ],
      "metadata": {
        "id": "kIWk-mrE5anK"
      },
      "execution_count": null,
      "outputs": []
    },
    {
      "cell_type": "markdown",
      "source": [
        "# ***Customer Age***"
      ],
      "metadata": {
        "id": "Bud-0fV67Ojs"
      }
    },
    {
      "cell_type": "code",
      "source": [
        "import numpy as numpy\n",
        "np.timedelta64(1, 'Y')\n",
        "\n",
        "data['CustomerAge'] = int((pd.to_datetime('today') - data.CustomerDOB)  = date.CustomerDOB.loc[0] / np.timedelta64(1, 'Y')"
      ],
      "metadata": {
        "id": "fhijx2Ls7SR6"
      },
      "execution_count": null,
      "outputs": []
    },
    {
      "cell_type": "code",
      "source": [
        "data['CustomerAge'] = data['CustomerAge'].astype(int)"
      ],
      "metadata": {
        "id": "4ag6SYgu8O58"
      },
      "execution_count": null,
      "outputs": []
    },
    {
      "cell_type": "markdown",
      "source": [
        "# ***Transaction Time***"
      ],
      "metadata": {
        "id": "s29Uooxv8dFr"
      }
    },
    {
      "cell_type": "markdown",
      "source": [],
      "metadata": {
        "id": "wt9G9ZRp3K7M"
      }
    },
    {
      "cell_type": "code",
      "source": [
        "data.TransactionDate.dt.month.plot.hist(bins=12)"
      ],
      "metadata": {
        "id": "9N6QhdRH8gto"
      },
      "execution_count": null,
      "outputs": []
    },
    {
      "cell_type": "code",
      "source": [
        "data.TransactionDate.dt.day.plot.hist(bins=12)"
      ],
      "metadata": {
        "id": "8PECXF4G8bEn"
      },
      "execution_count": null,
      "outputs": []
    },
    {
      "cell_type": "code",
      "source": [
        "data.TransactionDate.dt.dayofweek.plot.hist(bins=7)"
      ],
      "metadata": {
        "id": "LQ4AIKdF84Mo"
      },
      "execution_count": null,
      "outputs": []
    },
    {
      "cell_type": "code",
      "source": [
        "data.TransactionDate.dt.day.plot.hist(bins=12)"
      ],
      "metadata": {
        "id": "GN5j3pcM9awk"
      },
      "execution_count": null,
      "outputs": []
    },
    {
      "cell_type": "code",
      "source": [
        "data.TransactionDate.dt.hour.value_counts().sort_index()"
      ],
      "metadata": {
        "id": "vIzO97Do9iqq"
      },
      "execution_count": null,
      "outputs": []
    },
    {
      "cell_type": "code",
      "source": [
        "data.TransactionDate.dt.hour.plot.hist(bins=24)"
      ],
      "metadata": {
        "id": "9nTqfzT_9zYK"
      },
      "execution_count": null,
      "outputs": []
    },
    {
      "cell_type": "code",
      "source": [
        "data.TransactionDate.dt.minutes.plot.hist(bins=60)"
      ],
      "metadata": {
        "id": "1t9GXXoB94wi"
      },
      "execution_count": null,
      "outputs": []
    },
    {
      "cell_type": "markdown",
      "source": [],
      "metadata": {
        "id": "urgtHaTB9gtU"
      }
    },
    {
      "cell_type": "code",
      "source": [
        "data.TransactionDate.dt.dayofweek.value_counts"
      ],
      "metadata": {
        "id": "9pzlw_bs9QWU"
      },
      "execution_count": null,
      "outputs": []
    },
    {
      "cell_type": "markdown",
      "source": [
        "Transaction Amount"
      ],
      "metadata": {
        "id": "yX8w6tMm-DHb"
      }
    },
    {
      "cell_type": "code",
      "source": [
        "data['TransactionAmoint (INR)'] = data['TransactionAmoint (INR)'].astype(int)"
      ],
      "metadata": {
        "id": "wef9bE-e-gZ2"
      },
      "execution_count": null,
      "outputs": []
    },
    {
      "cell_type": "code",
      "source": [
        "data.loc[data['TransactionAmount (INR)'] >100, 'TransactionAmount (INR)'].plot.box()"
      ],
      "metadata": {
        "id": "Y_w6Hhsc-GnF"
      },
      "execution_count": null,
      "outputs": []
    },
    {
      "cell_type": "markdown",
      "source": [
        "# Utilization"
      ],
      "metadata": {
        "id": "67D4abYt_O1x"
      }
    },
    {
      "cell_type": "code",
      "source": [
        "data['Utilixation'] = data['Utilixation']"
      ],
      "metadata": {
        "id": "ski_uyYi_RV_"
      },
      "execution_count": null,
      "outputs": []
    },
    {
      "cell_type": "markdown",
      "source": [
        "***Customer*** ***Transactions***"
      ],
      "metadata": {
        "id": "f8HQZOHq50Sm"
      }
    },
    {
      "cell_type": "code",
      "source": [
        "data.groupby('CustomerID').TransactionID.count().sort_values()"
      ],
      "metadata": {
        "id": "94tUOKQH5ycy"
      },
      "execution_count": null,
      "outputs": []
    },
    {
      "cell_type": "code",
      "source": [
        "data[data.CustomerID == 'C322689']"
      ],
      "metadata": {
        "id": "YH35d4HL6opY"
      },
      "execution_count": null,
      "outputs": []
    },
    {
      "cell_type": "code",
      "source": [
        "data.groupby('CustomerID').TransactionID.count().plot.hist()"
      ],
      "metadata": {
        "id": "zybs6b0P6ajp"
      },
      "execution_count": null,
      "outputs": []
    }
  ]
}